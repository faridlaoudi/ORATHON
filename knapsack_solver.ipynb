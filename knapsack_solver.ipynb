{
 "cells": [
  {
   "cell_type": "code",
   "execution_count": null,
   "metadata": {
    "colab": {
     "base_uri": "https://localhost:8080/"
    },
    "id": "U2Ddqsh-9YHk",
    "outputId": "a41cac8e-a8af-4ff7-97ba-904f76ca942a"
   },
   "outputs": [
    {
     "name": "stdout",
     "output_type": "stream",
     "text": [
      "Defaulting to user installation because normal site-packages is not writeable\n",
      "Requirement already satisfied: gradio in /home/farid/.local/lib/python3.13/site-packages (5.20.1)\n",
      "Requirement already satisfied: aiofiles<24.0,>=22.0 in /home/farid/.local/lib/python3.13/site-packages (from gradio) (23.2.1)\n",
      "Requirement already satisfied: anyio<5.0,>=3.0 in /usr/lib/python3.13/site-packages (from gradio) (3.7.1)\n",
      "Requirement already satisfied: audioop-lts<1.0 in /home/farid/.local/lib/python3.13/site-packages (from gradio) (0.2.1)\n",
      "Requirement already satisfied: fastapi<1.0,>=0.115.2 in /home/farid/.local/lib/python3.13/site-packages (from gradio) (0.115.11)\n",
      "Requirement already satisfied: ffmpy in /home/farid/.local/lib/python3.13/site-packages (from gradio) (0.5.0)\n",
      "Requirement already satisfied: gradio-client==1.7.2 in /home/farid/.local/lib/python3.13/site-packages (from gradio) (1.7.2)\n",
      "Requirement already satisfied: groovy~=0.1 in /home/farid/.local/lib/python3.13/site-packages (from gradio) (0.1.2)\n",
      "Requirement already satisfied: httpx>=0.24.1 in /usr/lib/python3.13/site-packages (from gradio) (0.27.0)\n",
      "Requirement already satisfied: huggingface-hub>=0.28.1 in /home/farid/.local/lib/python3.13/site-packages (from gradio) (0.29.2)\n",
      "Requirement already satisfied: jinja2<4.0 in /usr/lib/python3.13/site-packages (from gradio) (3.1.5)\n",
      "Requirement already satisfied: markupsafe~=2.0 in /usr/lib64/python3.13/site-packages (from gradio) (2.1.5)\n",
      "Requirement already satisfied: numpy<3.0,>=1.0 in /home/farid/.local/lib/python3.13/site-packages (from gradio) (2.2.3)\n",
      "Requirement already satisfied: orjson~=3.0 in /home/farid/.local/lib/python3.13/site-packages (from gradio) (3.10.15)\n",
      "Requirement already satisfied: packaging in /usr/lib/python3.13/site-packages (from gradio) (24.2)\n",
      "Requirement already satisfied: pandas<3.0,>=1.0 in /home/farid/.local/lib/python3.13/site-packages (from gradio) (2.2.3)\n",
      "Requirement already satisfied: pillow<12.0,>=8.0 in /usr/lib64/python3.13/site-packages (from gradio) (11.0.0)\n",
      "Requirement already satisfied: pydantic>=2.0 in /home/farid/.local/lib/python3.13/site-packages (from gradio) (2.10.6)\n",
      "Requirement already satisfied: pydub in /home/farid/.local/lib/python3.13/site-packages (from gradio) (0.25.1)\n",
      "Requirement already satisfied: python-multipart>=0.0.18 in /home/farid/.local/lib/python3.13/site-packages (from gradio) (0.0.20)\n",
      "Requirement already satisfied: pyyaml<7.0,>=5.0 in /usr/lib64/python3.13/site-packages (from gradio) (6.0.1)\n",
      "Requirement already satisfied: ruff>=0.9.3 in /home/farid/.local/lib/python3.13/site-packages (from gradio) (0.9.9)\n",
      "Requirement already satisfied: safehttpx<0.2.0,>=0.1.6 in /home/farid/.local/lib/python3.13/site-packages (from gradio) (0.1.6)\n",
      "Requirement already satisfied: semantic-version~=2.0 in /home/farid/.local/lib/python3.13/site-packages (from gradio) (2.10.0)\n",
      "Requirement already satisfied: starlette<1.0,>=0.40.0 in /home/farid/.local/lib/python3.13/site-packages (from gradio) (0.46.0)\n",
      "Requirement already satisfied: tomlkit<0.14.0,>=0.12.0 in /home/farid/.local/lib/python3.13/site-packages (from gradio) (0.13.2)\n",
      "Requirement already satisfied: typer<1.0,>=0.12 in /home/farid/.local/lib/python3.13/site-packages (from gradio) (0.15.2)\n",
      "Requirement already satisfied: typing-extensions~=4.0 in /usr/lib/python3.13/site-packages (from gradio) (4.12.2)\n",
      "Requirement already satisfied: uvicorn>=0.14.0 in /home/farid/.local/lib/python3.13/site-packages (from gradio) (0.34.0)\n",
      "Requirement already satisfied: fsspec in /usr/lib/python3.13/site-packages (from gradio-client==1.7.2->gradio) (2024.12.0)\n",
      "Requirement already satisfied: websockets<16.0,>=10.0 in /home/farid/.local/lib/python3.13/site-packages (from gradio-client==1.7.2->gradio) (15.0.1)\n",
      "Requirement already satisfied: idna>=2.8 in /usr/lib/python3.13/site-packages (from anyio<5.0,>=3.0->gradio) (3.7)\n",
      "Requirement already satisfied: sniffio>=1.1 in /usr/lib/python3.13/site-packages (from anyio<5.0,>=3.0->gradio) (1.3.1)\n",
      "Requirement already satisfied: certifi in /home/farid/.local/lib/python3.13/site-packages (from httpx>=0.24.1->gradio) (2025.1.31)\n",
      "Requirement already satisfied: httpcore==1.* in /usr/lib/python3.13/site-packages (from httpx>=0.24.1->gradio) (1.0.5)\n",
      "Requirement already satisfied: h11<0.15,>=0.13 in /usr/lib/python3.13/site-packages (from httpcore==1.*->httpx>=0.24.1->gradio) (0.14.0)\n",
      "Requirement already satisfied: filelock in /home/farid/.local/lib/python3.13/site-packages (from huggingface-hub>=0.28.1->gradio) (3.17.0)\n",
      "Requirement already satisfied: requests in /usr/lib/python3.13/site-packages (from huggingface-hub>=0.28.1->gradio) (2.32.3)\n",
      "Requirement already satisfied: tqdm>=4.42.1 in /home/farid/.local/lib/python3.13/site-packages (from huggingface-hub>=0.28.1->gradio) (4.67.1)\n",
      "Requirement already satisfied: python-dateutil>=2.8.2 in /usr/lib/python3.13/site-packages (from pandas<3.0,>=1.0->gradio) (2.8.2)\n",
      "Requirement already satisfied: pytz>=2020.1 in /home/farid/.local/lib/python3.13/site-packages (from pandas<3.0,>=1.0->gradio) (2025.1)\n",
      "Requirement already satisfied: tzdata>=2022.7 in /home/farid/.local/lib/python3.13/site-packages (from pandas<3.0,>=1.0->gradio) (2025.1)\n",
      "Requirement already satisfied: annotated-types>=0.6.0 in /home/farid/.local/lib/python3.13/site-packages (from pydantic>=2.0->gradio) (0.7.0)\n",
      "Requirement already satisfied: pydantic-core==2.27.2 in /home/farid/.local/lib/python3.13/site-packages (from pydantic>=2.0->gradio) (2.27.2)\n",
      "Requirement already satisfied: click>=8.0.0 in /usr/lib/python3.13/site-packages (from typer<1.0,>=0.12->gradio) (8.1.7)\n",
      "Requirement already satisfied: shellingham>=1.3.0 in /home/farid/.local/lib/python3.13/site-packages (from typer<1.0,>=0.12->gradio) (1.5.4)\n",
      "Requirement already satisfied: rich>=10.11.0 in /home/farid/.local/lib/python3.13/site-packages (from typer<1.0,>=0.12->gradio) (13.9.4)\n",
      "Requirement already satisfied: six>=1.5 in /usr/lib/python3.13/site-packages (from python-dateutil>=2.8.2->pandas<3.0,>=1.0->gradio) (1.16.0)\n",
      "Requirement already satisfied: markdown-it-py>=2.2.0 in /home/farid/.local/lib/python3.13/site-packages (from rich>=10.11.0->typer<1.0,>=0.12->gradio) (3.0.0)\n",
      "Requirement already satisfied: pygments<3.0.0,>=2.13.0 in /home/farid/.local/lib/python3.13/site-packages (from rich>=10.11.0->typer<1.0,>=0.12->gradio) (2.19.1)\n",
      "Requirement already satisfied: charset-normalizer<4,>=2 in /usr/lib/python3.13/site-packages (from requests->huggingface-hub>=0.28.1->gradio) (3.3.2)\n",
      "Requirement already satisfied: urllib3<3,>=1.21.1 in /usr/lib/python3.13/site-packages (from requests->huggingface-hub>=0.28.1->gradio) (1.26.20)\n",
      "Requirement already satisfied: mdurl~=0.1 in /home/farid/.local/lib/python3.13/site-packages (from markdown-it-py>=2.2.0->rich>=10.11.0->typer<1.0,>=0.12->gradio) (0.1.2)\n",
      "Defaulting to user installation because normal site-packages is not writeable\n",
      "Collecting numpy<2\n",
      "  Downloading numpy-1.26.4.tar.gz (15.8 MB)\n",
      "\u001b[2K     \u001b[38;2;114;156;31m━━━━━━━━━━━━━━━━━━━━━━━━━━━━━━━━━━━━━━━━\u001b[0m \u001b[32m15.8/15.8 MB\u001b[0m \u001b[31m1.9 MB/s\u001b[0m eta \u001b[36m0:00:00\u001b[0m[36m0:00:01\u001b[0mm eta \u001b[36m0:00:01\u001b[0m\n",
      "  Installing build depdone\n",
      "\u001b[?25h  Getting requirements to build wheel ... \u001b[?25ldone\n",
      "\u001b[?25h  Installing backend dependencies ... \u001b[done\n",
      "\u001b[?25h  Preparing metadata (pyproject.toml) ... \u001b[?25lerror\n",
      "  \u001b[1;31merror\u001b[0m: \u001b[1msubprocess-exited-with-error\u001b[0m\n",
      "  \n",
      "  \u001b[31m×\u001b[0m \u001b[32mPreparing metadata \u001b[0m\u001b[1;32m(\u001b[0m\u001b[32mpyproject.toml\u001b[0m\u001b[1;32m)\u001b[0m did not run successfully.\n",
      "  \u001b[31m│\u001b[0m exit code: \u001b[1;36m1\u001b[0m\n",
      "  \u001b[31m╰─>\u001b[0m \u001b[31m[22 lines of output]\u001b[0m\n",
      "  \u001b[31m   \u001b[0m \u001b[36m\u001b[1m+ /usr/bin/python3 /tmp/pip-install-sc2skqtw/numpy_96242c08f4134a90a07c88520013a2be/vendored-meson/meson/meson.py setup /tmp/pip-install-sc2skqtw/numpy_96242c08f4134a90a07c88520013a2be /tmp/pip-install-sc2skqtw/numpy_96242c08f4134a90a07c88520013a2be/.mesonpy-ocf3oymb -Dbuildtype=release -Db_ndebug=if-release -Db_vscrt=md --native-file=/tmp/pip-install-sc2skqtw/numpy_96242c08f4134a90a07c88520013a2be/.mesonpy-ocf3oymb/meson-python-native-file.ini\u001b[0m\n",
      "  \u001b[31m   \u001b[0m The Meson build system\n",
      "  \u001b[31m   \u001b[0m Version: 1.2.99\n",
      "  \u001b[31m   \u001b[0m Source dir: /tmp/pip-install-sc2skqtw/numpy_96242c08f4134a90a07c88520013a2be\n",
      "  \u001b[31m   \u001b[0m Build dir: /tmp/pip-install-sc2skqtw/numpy_96242c08f4134a90a07c88520013a2be/.mesonpy-ocf3oymb\n",
      "  \u001b[31m   \u001b[0m Build type: native build\n",
      "  \u001b[31m   \u001b[0m Project name: NumPy\n",
      "  \u001b[31m   \u001b[0m Project version: 1.26.4\n",
      "  \u001b[31m   \u001b[0m C compiler for the host machine: cc (gcc 14.2.1 \"cc (GCC) 14.2.1 20250110 (Red Hat 14.2.1-7)\")\n",
      "  \u001b[31m   \u001b[0m C linker for the host machine: cc ld.bfd 2.43.1-5\n",
      "  \u001b[31m   \u001b[0m \n",
      "  \u001b[31m   \u001b[0m ../meson.build:1:0: ERROR: Unknown compiler(s): [['c++'], ['g++'], ['clang++'], ['nvc++'], ['pgc++'], ['icpc'], ['icpx']]\n",
      "  \u001b[31m   \u001b[0m The following exception(s) were encountered:\n",
      "  \u001b[31m   \u001b[0m Running `c++ --version` gave \"[Errno 2] No such file or directory: 'c++'\"\n",
      "  \u001b[31m   \u001b[0m Running `g++ --version` gave \"[Errno 2] No such file or directory: 'g++'\"\n",
      "  \u001b[31m   \u001b[0m Running `clang++ --version` gave \"[Errno 2] No such file or directory: 'clang++'\"\n",
      "  \u001b[31m   \u001b[0m Running `nvc++ --version` gave \"[Errno 2] No such file or directory: 'nvc++'\"\n",
      "  \u001b[31m   \u001b[0m Running `pgc++ --version` gave \"[Errno 2] No such file or directory: 'pgc++'\"\n",
      "  \u001b[31m   \u001b[0m Running `icpc --version` gave \"[Errno 2] No such file or directory: 'icpc'\"\n",
      "  \u001b[31m   \u001b[0m Running `icpx --version` gave \"[Errno 2] No such file or directory: 'icpx'\"\n",
      "  \u001b[31m   \u001b[0m \n",
      "  \u001b[31m   \u001b[0m A full log can be found at /tmp/pip-install-sc2skqtw/numpy_96242c08f4134a90a07c88520013a2be/.mesonpy-ocf3oymb/meson-logs/meson-log.txt\n",
      "  \u001b[31m   \u001b[0m \u001b[31m[end of output]\u001b[0m\n",
      "  \n",
      "  \u001b[1;35mnote\u001b[0m: This error originates from a subprocess, and is likely not a problem with pip.\n",
      "\u001b[1;31merror\u001b[0m: \u001b[1mmetadata-generation-failed\u001b[0m\n",
      "\n",
      "\u001b[31m×\u001b[0m Encountered error while generating package metadata.\n",
      "\u001b[31m╰─>\u001b[0m See above for output.\n",
      "\n",
      "\u001b[1;35mnote\u001b[0m: This is an issue with the package mentioned above, not pip.\n",
      "\u001b[1;36mhint\u001b[0m: See above for details.\n",
      "\u001b[?25hDefaulting to user installation because normal site-packages is not writeable\n",
      "Requirement already satisfied: pandas in /home/farid/.local/lib/python3.13/site-packages (2.2.3)\n",
      "Requirement already satisfied: pyarrow in /usr/lib64/python3.13/site-packages (16.1.0)\n",
      "Collecting pyarrow\n",
      "  Downloading pyarrow-19.0.1-cp313-cp313-manylinux_2_28_x86_64.whl.metadata (3.3 kB)\n",
      "Requirement already satisfied: numexpr in /usr/lib64/python3.13/site-packages (2.8.5)\n",
      "Collecting numexpr\n",
      "  Downloading numexpr-2.10.2-cp313-cp313-manylinux_2_27_x86_64.manylinux_2_28_x86_64.whl.metadata (8.1 kB)\n",
      "Requirement already satisfied: bottleneck in /usr/lib64/python3.13/site-packages (1.3.7)\n",
      "Collecting bottleneck\n",
      "  Downloading Bottleneck-1.4.2-cp313-cp313-manylinux_2_5_x86_64.manylinux1_x86_64.manylinux_2_17_x86_64.manylinux2014_x86_64.whl.metadata (7.7 kB)\n",
      "Requirement already satisfied: numpy>=1.26.0 in /home/farid/.local/lib/python3.13/site-packages (from pandas) (2.2.3)\n",
      "Requirement already satisfied: python-dateutil>=2.8.2 in /usr/lib/python3.13/site-packages (from pandas) (2.8.2)\n",
      "Requirement already satisfied: pytz>=2020.1 in /home/farid/.local/lib/python3.13/site-packages (from pandas) (2025.1)\n",
      "Requirement already satisfied: tzdata>=2022.7 in /home/farid/.local/lib/python3.13/site-packages (from pandas) (2025.1)\n",
      "Requirement already satisfied: six>=1.5 in /usr/lib/python3.13/site-packages (from python-dateutil>=2.8.2->pandas) (1.16.0)\n",
      "Downloading pyarrow-19.0.1-cp313-cp313-manylinux_2_28_x86_64.whl (42.1 MB)\n",
      "\u001b[2K   \u001b[38;2;249;38;114m━━━━━━━━━━━━━━━━━━━━━━━━━━━━━━\u001b[0m\u001b[38;5;237m╺\u001b[0m\u001b[38;5;237m━━━━━━━━━\u001b[0m \u001b[32m31.7/42.1 MB\u001b[0m \u001b[31m1.7 MB/s\u001b[0m eta \u001b[36m0:00:07\u001b[0m:07\u001b[0m"
     ]
    }
   ],
   "source": [
    "!pip install gradio\n",
    "!pip install \"numpy<2\"\n",
    "!pip install --upgrade pandas pyarrow numexpr bottleneck\n",
    "!pip install --force-reinstall pyarrow"
   ]
  },
  {
   "cell_type": "code",
   "execution_count": null,
   "metadata": {
    "id": "t3VibX5swQSf"
   },
   "outputs": [],
   "source": [
    "import pandas as pd\n",
    "import gradio as gr\n",
    "import numpy as np"
   ]
  },
  {
   "cell_type": "code",
   "execution_count": null,
   "metadata": {
    "id": "05j782V5znSg"
   },
   "outputs": [],
   "source": [
    "#algorithm from google\n",
    "def knapSack(W, wt, val, n):\n",
    "  \n",
    "    # Base Case\n",
    "    if n == 0 or W == 0 :\n",
    "        return 0\n",
    "  \n",
    "    # If weight of the nth item is more than Knapsack of capacity\n",
    "    # W, then this item cannot be included in the optimal solution\n",
    "    if (wt[n-1] > W):\n",
    "        return knapSack(W, wt, val, n-1)\n",
    "  \n",
    "    # return the maximum of two cases:\n",
    "    # (1) nth item included\n",
    "    # (2) not included\n",
    "    else:\n",
    "        return max(val[n-1] + knapSack(W-wt[n-1], wt, val, n-1),\n",
    "                   knapSack(W, wt, val, n-1))\n",
    "  \n",
    "# end of function knapSack\n",
    "  \n",
    "# To test above function\n"
   ]
  },
  {
   "cell_type": "code",
   "execution_count": null,
   "metadata": {
    "colab": {
     "base_uri": "https://localhost:8080/"
    },
    "id": "rN0YelP0FNRN",
    "outputId": "aaa0abd6-c8a1-4fe7-a7be-ce609dccefab"
   },
   "outputs": [],
   "source": [
    "val = [600, 200, 3600]\n",
    "wt = [10, 20, 30]\n",
    "W = 50\n",
    "n = len(val)\n",
    "print(knapSack(W, wt, val,n))"
   ]
  },
  {
   "cell_type": "code",
   "execution_count": null,
   "metadata": {
    "colab": {
     "base_uri": "https://localhost:8080/",
     "height": 143
    },
    "id": "CdQGttFpFj6i",
    "outputId": "86d8a736-c6c0-41c5-b426-dcf3ab45399b"
   },
   "outputs": [],
   "source": [
    "#the solution\n",
    "val = [600, 200, 3600]\n",
    "wt = [10, 20, 30]\n",
    "W = 50\n",
    "kuri= [\"Banne\", \"onion\", \"pomme\"]\n",
    "data={\"object name\":kuri,\"weight\":wt,\"value\":val}\n",
    "df= pd.DataFrame(data)\n",
    "df=df.sort_values(by=['value'], ascending=False)\n",
    "df\n"
   ]
  },
  {
   "cell_type": "code",
   "execution_count": null,
   "metadata": {
    "id": "XqDt6MLYVDoV"
   },
   "outputs": [],
   "source": [
    "def tri(l,W):\n",
    "    l.dropna\n",
    "    l= l[l.weight <=W]\n",
    "    l= l[l.weight >0]\n",
    "    l=l[l.value >0]\n",
    "    for i in range(0,len(l.index)):\n",
    "        l[\"value\"].loc[l.index[i]]=l[\"value\"].loc[l.index[i]]/l[\"weight\"].loc[l.index[i]]\n",
    "    l=l.sort_values(by=['value'], ascending=False)\n",
    "    k=0\n",
    "    h=0\n",
    "    o=\"\"\n",
    "    for i in range(0,len(l.index)):\n",
    "        k=k+l[\"weight\"].loc[l.index[i]]*(W//l[\"weight\"].loc[l.index[i]])*l[\"value\"].loc[l.index[i]]\n",
    "        h=h+l[\"weight\"].loc[l.index[i]]*(W//l[\"weight\"].loc[l.index[i]])\n",
    "        o=o+str(W//l[\"weight\"].loc[l.index[i]])+l[\"object name\"].loc[l.index[i]]+\" \"\n",
    "        W=W-l[\"weight\"].loc[l.index[i]]*(W//l[\"weight\"].loc[l.index[i]])\n",
    "    return h,k,o"
   ]
  },
  {
   "cell_type": "code",
   "execution_count": null,
   "metadata": {
    "colab": {
     "base_uri": "https://localhost:8080/"
    },
    "id": "dW_Lr-Wo-XqX",
    "outputId": "d671f39f-c3b3-4911-df56-b1374331e0bc"
   },
   "outputs": [],
   "source": [
    "tri(df,70)"
   ]
  },
  {
   "cell_type": "code",
   "execution_count": null,
   "metadata": {
    "colab": {
     "base_uri": "https://localhost:8080/",
     "height": 678
    },
    "id": "_sndw-xN350N",
    "outputId": "bb506b9d-ffd4-477d-d4e9-29d3ab2f2c9a"
   },
   "outputs": [],
   "source": [
    "input=gr.Dataframe(\n",
    "            headers=[\"object name\", \"weight\", \"value\"],\n",
    "            datatype=[\"str\", \"number\", \"number\"],\n",
    "            row_count=3,\n",
    "            col_count=(3, \"fixed\"))\n",
    "#outputs = [gr.Dataframe(row_count = (1, \"dynamic\"), col_count=(2, \"fixed\"), label=\"Predictions\", headers=[\"best combination\",\"best value\"])]\n",
    "demo=gr.Interface(fn=tri, inputs=[input,gr.Number(label=\"bag weight\")],outputs=[gr.Number(label=\"maximum weight\"),gr.Number(label=\"best value\"),gr.Textbox(label=\"Best Combination\")],title=\"Bin Packing\",examples=[[df]])\n",
    "demo.launch(debug=True,share=True)"
   ]
  },
  {
   "cell_type": "code",
   "execution_count": null,
   "metadata": {},
   "outputs": [],
   "source": []
  },
  {
   "cell_type": "code",
   "execution_count": null,
   "metadata": {},
   "outputs": [],
   "source": []
  },
  {
   "cell_type": "code",
   "execution_count": null,
   "metadata": {},
   "outputs": [],
   "source": []
  },
  {
   "cell_type": "code",
   "execution_count": null,
   "metadata": {},
   "outputs": [],
   "source": []
  },
  {
   "cell_type": "code",
   "execution_count": null,
   "metadata": {},
   "outputs": [],
   "source": []
  },
  {
   "cell_type": "code",
   "execution_count": null,
   "metadata": {},
   "outputs": [],
   "source": []
  },
  {
   "cell_type": "code",
   "execution_count": null,
   "metadata": {},
   "outputs": [],
   "source": []
  },
  {
   "cell_type": "code",
   "execution_count": null,
   "metadata": {},
   "outputs": [],
   "source": []
  }
 ],
 "metadata": {
  "colab": {
   "provenance": []
  },
  "kernelspec": {
   "display_name": "Python 3 (ipykernel)",
   "language": "python",
   "name": "python3"
  },
  "language_info": {
   "codemirror_mode": {
    "name": "ipython",
    "version": 3
   },
   "file_extension": ".py",
   "mimetype": "text/x-python",
   "name": "python",
   "nbconvert_exporter": "python",
   "pygments_lexer": "ipython3",
   "version": "3.13.2"
  }
 },
 "nbformat": 4,
 "nbformat_minor": 4
}
