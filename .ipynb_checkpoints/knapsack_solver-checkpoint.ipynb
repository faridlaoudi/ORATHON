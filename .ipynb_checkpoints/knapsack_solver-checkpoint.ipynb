{
 "cells": [
  {
   "cell_type": "code",
   "execution_count": 2,
   "metadata": {
    "colab": {
     "base_uri": "https://localhost:8080/"
    },
    "id": "U2Ddqsh-9YHk",
    "outputId": "a41cac8e-a8af-4ff7-97ba-904f76ca942a"
   },
   "outputs": [
    {
     "ename": "SyntaxError",
     "evalue": "invalid syntax (2827896007.py, line 1)",
     "output_type": "error",
     "traceback": [
      "\u001b[0;36m  Cell \u001b[0;32mIn[2], line 1\u001b[0;36m\u001b[0m\n\u001b[0;31m    pip install gradio\u001b[0m\n\u001b[0m        ^\u001b[0m\n\u001b[0;31mSyntaxError\u001b[0m\u001b[0;31m:\u001b[0m invalid syntax\n"
     ]
    }
   ],
   "source": [
    "pip install gradio\n",
    "pip install \"numpy<2\"\n",
    "pip install --upgrade pandas pyarrow numexpr bottleneck\n",
    "pip install --force-reinstall pyarrow"
   ]
  },
  {
   "cell_type": "code",
   "execution_count": null,
   "metadata": {
    "id": "t3VibX5swQSf"
   },
   "outputs": [],
   "source": [
    "import pandas as pd\n",
    "import gradio as gr\n",
    "import numpy as np"
   ]
  },
  {
   "cell_type": "code",
   "execution_count": null,
   "metadata": {
    "id": "05j782V5znSg"
   },
   "outputs": [],
   "source": [
    "#algorithm from google\n",
    "def knapSack(W, wt, val, n):\n",
    "  \n",
    "    # Base Case\n",
    "    if n == 0 or W == 0 :\n",
    "        return 0\n",
    "  \n",
    "    # If weight of the nth item is more than Knapsack of capacity\n",
    "    # W, then this item cannot be included in the optimal solution\n",
    "    if (wt[n-1] > W):\n",
    "        return knapSack(W, wt, val, n-1)\n",
    "  \n",
    "    # return the maximum of two cases:\n",
    "    # (1) nth item included\n",
    "    # (2) not included\n",
    "    else:\n",
    "        return max(val[n-1] + knapSack(W-wt[n-1], wt, val, n-1),\n",
    "                   knapSack(W, wt, val, n-1))\n",
    "  \n",
    "# end of function knapSack\n",
    "  \n",
    "# To test above function\n"
   ]
  },
  {
   "cell_type": "code",
   "execution_count": null,
   "metadata": {
    "colab": {
     "base_uri": "https://localhost:8080/"
    },
    "id": "rN0YelP0FNRN",
    "outputId": "aaa0abd6-c8a1-4fe7-a7be-ce609dccefab"
   },
   "outputs": [],
   "source": [
    "val = [600, 200, 3600]\n",
    "wt = [10, 20, 30]\n",
    "W = 50\n",
    "n = len(val)\n",
    "print(knapSack(W, wt, val,n))"
   ]
  },
  {
   "cell_type": "code",
   "execution_count": null,
   "metadata": {
    "colab": {
     "base_uri": "https://localhost:8080/",
     "height": 143
    },
    "id": "CdQGttFpFj6i",
    "outputId": "86d8a736-c6c0-41c5-b426-dcf3ab45399b"
   },
   "outputs": [],
   "source": [
    "#the solution\n",
    "val = [600, 200, 3600]\n",
    "wt = [10, 20, 30]\n",
    "W = 50\n",
    "kuri= [\"Banne\", \"onion\", \"pomme\"]\n",
    "data={\"object name\":kuri,\"weight\":wt,\"value\":val}\n",
    "df= pd.DataFrame(data)\n",
    "df=df.sort_values(by=['value'], ascending=False)\n",
    "df\n"
   ]
  },
  {
   "cell_type": "code",
   "execution_count": null,
   "metadata": {
    "id": "XqDt6MLYVDoV"
   },
   "outputs": [],
   "source": [
    "def tri(l,W):\n",
    "    l.dropna\n",
    "    l= l[l.weight <=W]\n",
    "    l= l[l.weight >0]\n",
    "    l=l[l.value >0]\n",
    "    for i in range(0,len(l.index)):\n",
    "        l[\"value\"].loc[l.index[i]]=l[\"value\"].loc[l.index[i]]/l[\"weight\"].loc[l.index[i]]\n",
    "    l=l.sort_values(by=['value'], ascending=False)\n",
    "    k=0\n",
    "    h=0\n",
    "    o=\"\"\n",
    "    for i in range(0,len(l.index)):\n",
    "        k=k+l[\"weight\"].loc[l.index[i]]*(W//l[\"weight\"].loc[l.index[i]])*l[\"value\"].loc[l.index[i]]\n",
    "        h=h+l[\"weight\"].loc[l.index[i]]*(W//l[\"weight\"].loc[l.index[i]])\n",
    "        o=o+str(W//l[\"weight\"].loc[l.index[i]])+l[\"object name\"].loc[l.index[i]]+\" \"\n",
    "        W=W-l[\"weight\"].loc[l.index[i]]*(W//l[\"weight\"].loc[l.index[i]])\n",
    "    return h,k,o"
   ]
  },
  {
   "cell_type": "code",
   "execution_count": null,
   "metadata": {
    "colab": {
     "base_uri": "https://localhost:8080/"
    },
    "id": "dW_Lr-Wo-XqX",
    "outputId": "d671f39f-c3b3-4911-df56-b1374331e0bc"
   },
   "outputs": [],
   "source": [
    "tri(df,70)"
   ]
  },
  {
   "cell_type": "code",
   "execution_count": null,
   "metadata": {
    "colab": {
     "base_uri": "https://localhost:8080/",
     "height": 678
    },
    "id": "_sndw-xN350N",
    "outputId": "bb506b9d-ffd4-477d-d4e9-29d3ab2f2c9a"
   },
   "outputs": [],
   "source": [
    "input=gr.Dataframe(\n",
    "            headers=[\"object name\", \"weight\", \"value\"],\n",
    "            datatype=[\"str\", \"number\", \"number\"],\n",
    "            row_count=3,\n",
    "            col_count=(3, \"fixed\"))\n",
    "#outputs = [gr.Dataframe(row_count = (1, \"dynamic\"), col_count=(2, \"fixed\"), label=\"Predictions\", headers=[\"best combination\",\"best value\"])]\n",
    "demo=gr.Interface(fn=tri, inputs=[input,gr.Number(label=\"bag weight\")],outputs=[gr.Number(label=\"maximum weight\"),gr.Number(label=\"best value\"),gr.Textbox(label=\"Best Combination\")],title=\"Bin Packing\",examples=[[df]])\n",
    "demo.launch(debug=True,share=True)"
   ]
  },
  {
   "cell_type": "code",
   "execution_count": null,
   "metadata": {},
   "outputs": [],
   "source": []
  },
  {
   "cell_type": "code",
   "execution_count": null,
   "metadata": {},
   "outputs": [],
   "source": []
  },
  {
   "cell_type": "code",
   "execution_count": null,
   "metadata": {},
   "outputs": [],
   "source": []
  },
  {
   "cell_type": "code",
   "execution_count": null,
   "metadata": {},
   "outputs": [],
   "source": []
  },
  {
   "cell_type": "code",
   "execution_count": null,
   "metadata": {},
   "outputs": [],
   "source": []
  },
  {
   "cell_type": "code",
   "execution_count": null,
   "metadata": {},
   "outputs": [],
   "source": []
  },
  {
   "cell_type": "code",
   "execution_count": null,
   "metadata": {},
   "outputs": [],
   "source": []
  },
  {
   "cell_type": "code",
   "execution_count": null,
   "metadata": {},
   "outputs": [],
   "source": []
  }
 ],
 "metadata": {
  "colab": {
   "provenance": []
  },
  "kernelspec": {
   "display_name": "Python 3 (ipykernel)",
   "language": "python",
   "name": "python3"
  },
  "language_info": {
   "codemirror_mode": {
    "name": "ipython",
    "version": 3
   },
   "file_extension": ".py",
   "mimetype": "text/x-python",
   "name": "python",
   "nbconvert_exporter": "python",
   "pygments_lexer": "ipython3",
   "version": "3.13.2"
  }
 },
 "nbformat": 4,
 "nbformat_minor": 4
}
